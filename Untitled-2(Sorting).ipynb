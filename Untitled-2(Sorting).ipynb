{
 "cells": [
  {
   "cell_type": "markdown",
   "metadata": {},
   "source": [
    "Big Sorting"
   ]
  },
  {
   "cell_type": "code",
   "execution_count": null,
   "metadata": {},
   "outputs": [],
   "source": [
    "    unsorted.sort(key = lambda x: (len(x), x))\n",
    "    return unsorted"
   ]
  },
  {
   "cell_type": "markdown",
   "metadata": {},
   "source": [
    "Intro to Tutorial Challenges"
   ]
  },
  {
   "cell_type": "code",
   "execution_count": null,
   "metadata": {},
   "outputs": [],
   "source": [
    " return [i for i,value in enumerate(arr) if value==V][0]"
   ]
  },
  {
   "cell_type": "markdown",
   "metadata": {},
   "source": [
    "Insertion Sort - Part 1"
   ]
  },
  {
   "cell_type": "code",
   "execution_count": null,
   "metadata": {},
   "outputs": [],
   "source": [
    "    key = arr[n-1]\n",
    "    i = n-1\n",
    "    while i-1 >= 0 and  key < arr[i-1]:\n",
    "        arr[i] = arr[i-1]\n",
    "        [print(j, end = \" \") for j in arr]\n",
    "        i -= 1\n",
    "        print()\n",
    "    arr[i] = key\n",
    "    [print(j, end=\" \") for j in arr]"
   ]
  },
  {
   "cell_type": "markdown",
   "metadata": {},
   "source": [
    "Insertion Sort - Part 2"
   ]
  },
  {
   "cell_type": "code",
   "execution_count": null,
   "metadata": {},
   "outputs": [],
   "source": [
    "   for i in range(1, n):\n",
    "        position = 0\n",
    "        for j in range(0, i+1):\n",
    "            if arr[i] > arr[j]:\n",
    "                position += 1\n",
    "            else:\n",
    "                break\n",
    "        arr.insert(position, arr.pop(i))\n",
    "        print(* arr)"
   ]
  },
  {
   "cell_type": "markdown",
   "metadata": {},
   "source": [
    "Correctness and the Loop Invariant"
   ]
  },
  {
   "cell_type": "code",
   "execution_count": null,
   "metadata": {},
   "outputs": [],
   "source": [
    "def insertion_sort(l):\n",
    "    for i in range(1, len(l)):\n",
    "        j = i-1\n",
    "        key = l[i]\n",
    "        while (j >= 0) and (l[j] > key):\n",
    "           l[j+1] = l[j]\n",
    "           j -= 1\n",
    "        l[j+1] = key\n",
    "\n",
    "m = int(input().strip())\n",
    "ar = [int(i) for i in input().strip().split()]\n",
    "insertion_sort(ar)\n",
    "print(\" \".join(map(str,ar)))\n"
   ]
  },
  {
   "cell_type": "markdown",
   "metadata": {},
   "source": [
    "Running Time of Algorithms"
   ]
  },
  {
   "cell_type": "code",
   "execution_count": null,
   "metadata": {},
   "outputs": [],
   "source": [
    "    a = 0\n",
    "    for i in range(1, len(arr)):\n",
    "        j = i-1\n",
    "        key = arr[i]\n",
    "        while (j >= 0) and (arr[j] > key):\n",
    "           arr[j+1] = arr[j]\n",
    "           j -= 1\n",
    "           a += 1\n",
    "        arr[j+1] = key\n",
    "    return a"
   ]
  },
  {
   "cell_type": "markdown",
   "metadata": {},
   "source": [
    "Quicksort 1 - Partition"
   ]
  },
  {
   "cell_type": "code",
   "execution_count": null,
   "metadata": {},
   "outputs": [],
   "source": [
    "    p=arr[0]\n",
    "    i=0\n",
    "    # loop invariant : \n",
    "    # arr[1],arr[2],...,arr[i] <= p < arr[i+1],arr[i+2],..,arr[j]\n",
    "    for j in range(1,len(arr)):\n",
    "        if arr[j] <= p:\n",
    "            i += 1\n",
    "            arr[i], arr[j] = arr[j], arr[i]\n",
    "    arr[0],arr[i]=arr[i], arr[0]\n",
    "    return arr\n",
    "if __name__ == '_"
   ]
  },
  {
   "cell_type": "markdown",
   "metadata": {},
   "source": [
    "Counting Sort 1"
   ]
  },
  {
   "cell_type": "code",
   "execution_count": null,
   "metadata": {},
   "outputs": [],
   "source": [
    "    res=[0]*100\n",
    "    for i in range(len(arr)):\n",
    "        res[arr[i]]+=1\n",
    "    return res"
   ]
  },
  {
   "cell_type": "markdown",
   "metadata": {},
   "source": [
    "Counting Sort 2"
   ]
  },
  {
   "cell_type": "code",
   "execution_count": null,
   "metadata": {},
   "outputs": [],
   "source": [
    "    result = [0 for _ in range(100)]\n",
    "    for i in arr:\n",
    "        result[i] += 1\n",
    "\n",
    "    answer = []\n",
    "    for i, v in enumerate(result):\n",
    "        for _ in range(v):\n",
    "            answer.append(i)\n",
    "\n",
    "    return(answer)"
   ]
  },
  {
   "cell_type": "markdown",
   "metadata": {},
   "source": [
    "Find the Median"
   ]
  },
  {
   "cell_type": "code",
   "execution_count": null,
   "metadata": {},
   "outputs": [],
   "source": [
    "  return sorted(arr)[len(arr)//2]"
   ]
  }
 ],
 "metadata": {
  "language_info": {
   "name": "python"
  },
  "orig_nbformat": 4
 },
 "nbformat": 4,
 "nbformat_minor": 2
}
