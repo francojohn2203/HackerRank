{
 "cells": [
  {
   "cell_type": "markdown",
   "metadata": {},
   "source": [
    "Super Reduced String"
   ]
  },
  {
   "cell_type": "code",
   "execution_count": null,
   "metadata": {},
   "outputs": [],
   "source": [
    "    regex = r'(\\w)\\1'\n",
    "    while re.search(regex, s):\n",
    "        s = re.sub(regex, '', s)\n",
    "    return s if s else 'Empty String'"
   ]
  },
  {
   "cell_type": "markdown",
   "metadata": {},
   "source": [
    "CamelCase"
   ]
  },
  {
   "cell_type": "code",
   "execution_count": null,
   "metadata": {},
   "outputs": [],
   "source": [
    "    i = 1\n",
    "    for a in s:\n",
    "        if a.isupper():\n",
    "            i = i + 1\n",
    "    return i\n",
    "if __name__ == '__mai"
   ]
  },
  {
   "cell_type": "markdown",
   "metadata": {},
   "source": [
    "Strong Password"
   ]
  },
  {
   "cell_type": "code",
   "execution_count": null,
   "metadata": {},
   "outputs": [],
   "source": [
    "    uc  = 0 if re.search(r'[A-Z]', password) else 1\n",
    "    lc  = 0 if re.search(r'[a-z]', password) else 1\n",
    "    num = 0 if re.search(r'[0-9]', password) else 1\n",
    "    spc = 0 if re.search(r'[!@#$%^&*()\\-+]', password) else 1\n"
   ]
  },
  {
   "cell_type": "markdown",
   "metadata": {},
   "source": [
    "Two Characters"
   ]
  },
  {
   "cell_type": "code",
   "execution_count": null,
   "metadata": {},
   "outputs": [],
   "source": [
    "    a=list(set(s))\n",
    "    ans=0\n",
    "    for x in range(len(a)-1):\n",
    "        for y in range(1,len(a)-x):\n",
    "            me=[a[x],a[x+y]]\n",
    "            nit=\"\"\n",
    "            for t in s:\n",
    "                if (t in me):\n",
    "                    if (nit==\"\" or t!=nit[-1]):\n",
    "                        nit+=t\n",
    "                    else:\n",
    "                        nit=\"\"\n",
    "                        break\n",
    "            if len(nit)>ans:\n",
    "                ans=len(nit)\n",
    "    return ans"
   ]
  },
  {
   "cell_type": "markdown",
   "metadata": {},
   "source": [
    "Caesar Cipher"
   ]
  },
  {
   "cell_type": "code",
   "execution_count": null,
   "metadata": {},
   "outputs": [],
   "source": [
    "    ss = \"\"\n",
    "    for i in s:\n",
    "        if i.isalpha():\n",
    "            a = 'A' if i.isupper() else \"a\"\n",
    "            ss += chr(ord(a)+(ord(i)-ord(a)+k)%26)\n",
    "        else:\n",
    "            ss += i\n",
    "    return ss"
   ]
  }
 ],
 "metadata": {
  "language_info": {
   "name": "python"
  },
  "orig_nbformat": 4
 },
 "nbformat": 4,
 "nbformat_minor": 2
}
