{
 "cells": [
  {
   "cell_type": "markdown",
   "metadata": {},
   "source": [
    "Solve Me First"
   ]
  },
  {
   "cell_type": "code",
   "execution_count": null,
   "metadata": {},
   "outputs": [],
   "source": [
    "def solveMeFirst(a,b):\n",
    "\t# Hint: Type return a+b below\n",
    "\n",
    "    return a+b\n",
    "num1 = int(input())\n",
    "num2 = int(input())\n",
    "res = solveMeFirst(num1,num2)\n",
    "print(res)\n"
   ]
  },
  {
   "cell_type": "markdown",
   "metadata": {},
   "source": [
    "Simple Array Sum"
   ]
  },
  {
   "cell_type": "code",
   "execution_count": null,
   "metadata": {},
   "outputs": [],
   "source": [
    "  sum = 0\n",
    "\n",
    "    for i in ar:\n",
    "        sum = sum + i\n",
    "    \n",
    "    return(sum)"
   ]
  },
  {
   "cell_type": "markdown",
   "metadata": {},
   "source": [
    "Compare the Triplets"
   ]
  },
  {
   "cell_type": "code",
   "execution_count": null,
   "metadata": {},
   "outputs": [],
   "source": [
    "\n",
    "    first=0\n",
    "    second=0\n",
    "    for pos, value in enumerate(a):\n",
    "        if value > b[pos]:\n",
    "            first+=1\n",
    "        elif value < b[pos]:\n",
    "            second+=1\n",
    "    return(str(first) + str(second))\n"
   ]
  },
  {
   "cell_type": "markdown",
   "metadata": {},
   "source": [
    "A Very Big Sum"
   ]
  },
  {
   "cell_type": "code",
   "execution_count": null,
   "metadata": {},
   "outputs": [],
   "source": [
    "    cont = 0\n",
    "    for i in ar:\n",
    "        cont +=i\n",
    "    return cont\n",
    "\n",
    "    return sum(ar)"
   ]
  },
  {
   "cell_type": "markdown",
   "metadata": {},
   "source": [
    "Diagonal Difference"
   ]
  },
  {
   "cell_type": "code",
   "execution_count": null,
   "metadata": {},
   "outputs": [],
   "source": [
    "    sum1,sum2=0,0\n",
    "    for i in range(n):\n",
    "        for j in range(i,n):\n",
    "            sum1+=arr[i][j]\n",
    "            break\n",
    "    for i in range(n):\n",
    "        for j in range(n-(i+1),-1,-1):\n",
    "            sum2+=arr[i][j]\n",
    "            break\n",
    "    return abs(sum1-sum2)"
   ]
  },
  {
   "cell_type": "markdown",
   "metadata": {},
   "source": [
    "Plus Minus"
   ]
  },
  {
   "cell_type": "code",
   "execution_count": null,
   "metadata": {},
   "outputs": [],
   "source": [
    "    p = 0 \n",
    "    n = 0\n",
    "    z = 0\n",
    "    for i in arr:\n",
    "        if i>0:\n",
    "            p += 1\n",
    "        elif i<0:\n",
    "            n += 1\n",
    "        else:\n",
    "            z +=1\n",
    "    print(\"{:.6f}\".format(p/len(arr)))\n",
    "    print(\"{:.6f}\".format(n/len(arr)))\n",
    "    print(\"{:.6f}\".format(z/len(arr)))\n",
    "if __name__ == '__main__':"
   ]
  },
  {
   "cell_type": "markdown",
   "metadata": {},
   "source": [
    "Staircase"
   ]
  },
  {
   "cell_type": "code",
   "execution_count": null,
   "metadata": {},
   "outputs": [],
   "source": [
    "    for i in range(1,n+1):\n",
    "        print(str('#'*i).rjust(n))"
   ]
  },
  {
   "cell_type": "markdown",
   "metadata": {},
   "source": [
    "Mini-Max Sum"
   ]
  },
  {
   "cell_type": "code",
   "execution_count": null,
   "metadata": {},
   "outputs": [],
   "source": [
    " ans = [sum(arr)-i for i in arr]\n",
    "    print(min(ans),max(ans))"
   ]
  },
  {
   "cell_type": "markdown",
   "metadata": {},
   "source": [
    "Birthday Cake Candles"
   ]
  },
  {
   "cell_type": "code",
   "execution_count": null,
   "metadata": {},
   "outputs": [],
   "source": [
    "return(candles.count(sorted(candles)[-1]))"
   ]
  },
  {
   "cell_type": "markdown",
   "metadata": {},
   "source": [
    "Time Conversion"
   ]
  },
  {
   "cell_type": "code",
   "execution_count": null,
   "metadata": {},
   "outputs": [],
   "source": [
    "    ref = s[-2:]\n",
    "    hrs = s[:2]\n",
    "    mins = s[3:5]\n",
    "    secs = s[6:8]\n",
    "    \n",
    "    if ref == \"AM\" and int(hrs) == 12:\n",
    "        hrs = \"00\"\n",
    "    if ref == \"PM\" and int(hrs) < 12:\n",
    "        hrs = str(int(hrs) + 12)\n",
    "    return \"{}:{}:{}\".format(hrs, mins, secs)"
   ]
  }
 ],
 "metadata": {
  "kernelspec": {
   "display_name": "Python 3.10.8 64-bit (microsoft store)",
   "language": "python",
   "name": "python3"
  },
  "language_info": {
   "name": "python",
   "version": "3.10.8"
  },
  "orig_nbformat": 4,
  "vscode": {
   "interpreter": {
    "hash": "e0acaf148705ed9ed86cc5cad12259d7985e30670e5686e5f55604a9b3b84a55"
   }
  }
 },
 "nbformat": 4,
 "nbformat_minor": 2
}
